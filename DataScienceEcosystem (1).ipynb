{
 "cells": [
  {
   "cell_type": "markdown",
   "id": "c57c7874-ecf4-4334-a017-c42db35cc195",
   "metadata": {},
   "source": [
    "# Data Science Tools and Ecosystem"
   ]
  },
  {
   "cell_type": "code",
   "execution_count": 63,
   "id": "b5272e44-ded0-4858-8775-a3872f6c0e11",
   "metadata": {
    "scrolled": true
   },
   "outputs": [
    {
     "name": "stdout",
     "output_type": "stream",
     "text": [
      "In this notebook, Data Science Tools and Ecosystem are summarized.\n"
     ]
    }
   ],
   "source": [
    "print(\"In this notebook, Data Science Tools and Ecosystem are summarized.\")"
   ]
  },
  {
   "cell_type": "markdown",
   "id": "34fc537d-8778-450d-8150-6bd7fe714a3c",
   "metadata": {},
   "source": [
    "**Objectives**\n",
    "\n",
    "+ List headings in different sizes\n",
    "+ Ordered lists\n",
    "+ Unordered lists\n",
    "+ Making a table"
   ]
  },
  {
   "cell_type": "markdown",
   "id": "a58576d4-63e8-4ee1-bec2-eb82f5c98ebb",
   "metadata": {},
   "source": [
    "### Below are a few examples of evaluating arithmetic expressions in Python\n"
   ]
  },
  {
   "cell_type": "code",
   "execution_count": 65,
   "id": "20166462-1293-48c0-bbed-4216e9491836",
   "metadata": {},
   "outputs": [
    {
     "name": "stdout",
     "output_type": "stream",
     "text": [
      "Some of the popular languages that Data Scientists use are:\n"
     ]
    }
   ],
   "source": [
    "print(\"Some of the popular languages that Data Scientists use are:\")"
   ]
  },
  {
   "cell_type": "markdown",
   "id": "080b9a39-bbc9-4ac3-83b4-23d3fd774b6d",
   "metadata": {},
   "source": [
    "1. R\n",
    "2. Python\n",
    "3. C++"
   ]
  },
  {
   "cell_type": "code",
   "execution_count": 71,
   "id": "1f484f99-074e-4e95-a07d-e22604276308",
   "metadata": {},
   "outputs": [
    {
     "name": "stdout",
     "output_type": "stream",
     "text": [
      "Some of the commonly used libraries used by Data Scientists include:\n"
     ]
    }
   ],
   "source": [
    "print(\"Some of the commonly used libraries used by Data Scientists include:\")"
   ]
  },
  {
   "cell_type": "markdown",
   "id": "0b4aff7b-0f1c-42a4-bbe3-df6e32250e55",
   "metadata": {},
   "source": [
    "1. NumPy\n",
    "2. TensorFlow\n",
    "3. Scikit-learn"
   ]
  },
  {
   "cell_type": "markdown",
   "id": "8ed0c66e-4f87-4923-bff0-cb672bfb421e",
   "metadata": {},
   "source": [
    "|Data Science Tools|\n",
    "|------------------|\n",
    "|Apache Spark|\n",
    "|R Studio|\n",
    "|Matplotlib|\n",
    "\n"
   ]
  },
  {
   "cell_type": "markdown",
   "id": "30f0f115-df99-4999-a42b-b76f4875ee03",
   "metadata": {},
   "source": [
    "#### This a simple arithmetic expression to mutiply then add integers.\n",
    "\n"
   ]
  },
  {
   "cell_type": "code",
   "execution_count": 108,
   "id": "a6b5bafc-7922-4d07-9991-9579c15700ef",
   "metadata": {},
   "outputs": [
    {
     "data": {
      "text/plain": [
       "17"
      ]
     },
     "execution_count": 108,
     "metadata": {},
     "output_type": "execute_result"
    }
   ],
   "source": [
    "(3*4)+5"
   ]
  },
  {
   "cell_type": "markdown",
   "id": "ca1060de-a4c7-4ab0-81bf-ecf0014dc988",
   "metadata": {},
   "source": [
    "#### This will convert 200 minutes to hours by diving by 60"
   ]
  },
  {
   "cell_type": "code",
   "execution_count": 110,
   "id": "145bd07f-5667-4d36-9684-85a82e66d78e",
   "metadata": {},
   "outputs": [
    {
     "data": {
      "text/plain": [
       "3.3333333333333335"
      ]
     },
     "execution_count": 110,
     "metadata": {},
     "output_type": "execute_result"
    }
   ],
   "source": [
    "200/60"
   ]
  },
  {
   "cell_type": "markdown",
   "id": "4dbc4058-f0a3-4df4-9d7b-bdfd8e3cce94",
   "metadata": {},
   "source": [
    "## Author\n",
    "\n",
    "#### "
   ]
  },
  {
   "cell_type": "code",
   "execution_count": null,
   "id": "baf3371d-1a71-4efc-9d66-4fa6275c359f",
   "metadata": {},
   "outputs": [],
   "source": []
  }
 ],
 "metadata": {
  "kernelspec": {
   "display_name": "Python 3 (ipykernel)",
   "language": "python",
   "name": "python3"
  },
  "language_info": {
   "codemirror_mode": {
    "name": "ipython",
    "version": 3
   },
   "file_extension": ".py",
   "mimetype": "text/x-python",
   "name": "python",
   "nbconvert_exporter": "python",
   "pygments_lexer": "ipython3",
   "version": "3.12.4"
  }
 },
 "nbformat": 4,
 "nbformat_minor": 5
}
